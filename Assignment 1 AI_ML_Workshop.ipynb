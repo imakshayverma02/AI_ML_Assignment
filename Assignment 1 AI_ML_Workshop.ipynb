{
 "cells": [
  {
   "cell_type": "code",
   "execution_count": null,
   "metadata": {},
   "outputs": [],
   "source": [
    "# ASSIGNMENT \n"
   ]
  },
  {
   "cell_type": "code",
   "execution_count": 3,
   "metadata": {},
   "outputs": [
    {
     "name": "stdout",
     "output_type": "stream",
     "text": [
      "enter side of square in meters : 20\n",
      "The side is divisible by 5\n",
      "area is 400 sq.m\n",
      "peri is 80 meters\n"
     ]
    }
   ],
   "source": [
    "#1 WAP TO FIND THE AREA AND THE PERIMETER OF THE SQUARE WHEN THE SIDE IS DIVISIBLE BY 5 \n",
    "\n",
    "\n",
    "side = input(\"enter side of square in meters : \")\n",
    "side=int(side)\n",
    "area = side ** 2\n",
    "peri = 4* side\n",
    "if side%5 == 0 :\n",
    "    print( \"The side is divisible by 5\")\n",
    "    print(\"area is\",area ,\"sq.m\")\n",
    "    print(\"peri is\",peri,\"meters\")\n",
    "   \n",
    "\n",
    "\n",
    "\n",
    "\n",
    "\n",
    "\n"
   ]
  },
  {
   "cell_type": "code",
   "execution_count": 14,
   "metadata": {},
   "outputs": [
    {
     "name": "stdout",
     "output_type": "stream",
     "text": [
      "Enter any number: 45\n",
      " The given number is odd\n"
     ]
    }
   ],
   "source": [
    "#2 WAP TO PRINT THE GIVEN NUMBER IS ODD OTHERWISE DON'T PRINT IT\n",
    "\n",
    "num = input(\"Enter any number: \")\n",
    "num=int(num)\n",
    "if num % 2 == 1 :\n",
    "    print(\" The given number is odd\")"
   ]
  },
  {
   "cell_type": "code",
   "execution_count": 15,
   "metadata": {},
   "outputs": [
    {
     "name": "stdout",
     "output_type": "stream",
     "text": [
      "Enter any number : 56\n",
      "The no. is even \n"
     ]
    }
   ],
   "source": [
    "#3 WAP FOR FIDING IF A NO. IS EVEN OR NOT USING BITWISE OPERATOR\n",
    "\n",
    "num= input(\"Enter any number : \")\n",
    "num = int(num)\n",
    "if (num ^ 1 == num + 1) :\n",
    "    print(\"The no. is even \")  \n",
    "else:\n",
    "    \n",
    "    print(\"The no. is odd \")  "
   ]
  },
  {
   "cell_type": "code",
   "execution_count": 25,
   "metadata": {},
   "outputs": [
    {
     "name": "stdout",
     "output_type": "stream",
     "text": [
      "Enter any number :120\n",
      "120\n"
     ]
    }
   ],
   "source": [
    "#4  WAP FOR SETTING THE 6TH BIT POSITION TO 1 IF IT IS NOT 1 OTHERWISE LEAVE IT\n",
    "\n",
    "x=input(\"Enter any number :\")\n",
    "x=int(x)\n",
    "\n",
    "def toggle_6th_bit(x:int,n:int):\n",
    "    return x|(1<<n)\n",
    "\n",
    "y=toggle_6th_bit(x,6)\n",
    "print(y)\n"
   ]
  },
  {
   "cell_type": "code",
   "execution_count": null,
   "metadata": {},
   "outputs": [],
   "source": []
  }
 ],
 "metadata": {
  "kernelspec": {
   "display_name": "Python 3",
   "language": "python",
   "name": "python3"
  },
  "language_info": {
   "codemirror_mode": {
    "name": "ipython",
    "version": 3
   },
   "file_extension": ".py",
   "mimetype": "text/x-python",
   "name": "python",
   "nbconvert_exporter": "python",
   "pygments_lexer": "ipython3",
   "version": "3.7.3"
  }
 },
 "nbformat": 4,
 "nbformat_minor": 2
}
