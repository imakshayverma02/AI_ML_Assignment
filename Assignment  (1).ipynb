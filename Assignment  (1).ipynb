{
 "cells": [
  {
   "cell_type": "code",
   "execution_count": null,
   "metadata": {},
   "outputs": [],
   "source": [
    "# ASSIGNMENT \n"
   ]
  },
  {
   "cell_type": "code",
   "execution_count": 25,
   "metadata": {},
   "outputs": [
    {
     "name": "stdout",
     "output_type": "stream",
     "text": [
      "enter side of square in meters : 15\n",
      "The side is divisible by 5\n",
      "area is 225 sq.m\n",
      "peri is 60 meters\n"
     ]
    }
   ],
   "source": [
    "#1 WAP TO FIND THE AREA AND THE PERIMETER OF THE SQUARE WHEN THE SIDE IS DIVISIBLE BY 5 \n",
    "\n",
    "\n",
    "side = input(\"enter side of square in meters : \")\n",
    "side=int(side)\n",
    "area = side ** 2\n",
    "peri = 4* side\n",
    "if side%5 == 0 :\n",
    "    print( \"The side is divisible by 5\")\n",
    "    print(\"area is\",area ,\"sq.m\")\n",
    "    print(\"peri is\",peri,\"meters\")\n",
    "   \n",
    "\n",
    "\n",
    "\n",
    "\n",
    "\n",
    "\n"
   ]
  },
  {
   "cell_type": "code",
   "execution_count": 40,
   "metadata": {},
   "outputs": [
    {
     "name": "stdout",
     "output_type": "stream",
     "text": [
      "Enter any number: 20\n"
     ]
    }
   ],
   "source": [
    "#2 WAP TO PRINT THE GIVEN NUMBER IS ODD OTHERWISE DON'T PRINT IT\n",
    "\n",
    "num = input(\"Enter any number: \")\n",
    "num=int(num)\n",
    "if num % 2 == 1 :\n",
    "    print(\" The given number is odd\")"
   ]
  },
  {
   "cell_type": "code",
   "execution_count": 57,
   "metadata": {},
   "outputs": [
    {
     "name": "stdout",
     "output_type": "stream",
     "text": [
      "Enter any number : 25\n",
      "The no. is odd \n"
     ]
    }
   ],
   "source": [
    "#3 WAP FOR FIDING IF A NO. IS EVEN OR NOT USING BITWISE OPERATOR\n",
    "\n",
    "\n",
    "num= input(\"Enter any number : \")\n",
    "num = int(num)\n",
    "if (num ^ 1 == num + 1) :\n",
    "    print(\"The no. is even \")  \n",
    "else:\n",
    "    \n",
    "    print(\"The no. is odd \")  "
   ]
  },
  {
   "cell_type": "code",
   "execution_count": 2,
   "metadata": {},
   "outputs": [
    {
     "name": "stdout",
     "output_type": "stream",
     "text": [
      "Enter any number : 456\n",
      "the decimal no. is : 0b111001000\n",
      "SET\n"
     ]
    }
   ],
   "source": [
    "#4  WAP FOR SETTING THE 6TH BIT POSITION TO 1 IF IT IS NOT 1 OTHERWISE LEAVE IT \n",
    "\n",
    "num=input(\"Enter any number : \")\n",
    "num=int(num)\n",
    "dec=bin(num)\n",
    "print(\"the decimal no. is :\",dec)\n",
    "if dec and (6 << 0): \n",
    "        print( \"SET\") \n",
    "else: \n",
    "        print(\"NOT SET\") \n",
    "\n",
    "\n",
    "\n",
    "\n"
   ]
  },
  {
   "cell_type": "code",
   "execution_count": 17,
   "metadata": {},
   "outputs": [
    {
     "name": "stdout",
     "output_type": "stream",
     "text": [
      "Enter any number : 89\n",
      "the decimal no. is : 0b1011001\n",
      "6\n"
     ]
    }
   ],
   "source": [
    "num=input(\"Enter any number : \")\n",
    "num=int(num)\n",
    "dec=bin(num)\n",
    "print(\"the decimal no. is :\",dec)\n",
    "dig= (dec  and 6 << 0)\n",
    "print( dig) \n",
    "\n"
   ]
  },
  {
   "cell_type": "code",
   "execution_count": null,
   "metadata": {},
   "outputs": [],
   "source": []
  }
 ],
 "metadata": {
  "kernelspec": {
   "display_name": "Python 3",
   "language": "python",
   "name": "python3"
  },
  "language_info": {
   "codemirror_mode": {
    "name": "ipython",
    "version": 3
   },
   "file_extension": ".py",
   "mimetype": "text/x-python",
   "name": "python",
   "nbconvert_exporter": "python",
   "pygments_lexer": "ipython3",
   "version": "3.7.3"
  }
 },
 "nbformat": 4,
 "nbformat_minor": 2
}
