{
 "cells": [
  {
   "cell_type": "code",
   "execution_count": null,
   "metadata": {},
   "outputs": [],
   "source": [
    "# ASSIGNMENT \n"
   ]
  },
  {
   "cell_type": "code",
   "execution_count": 3,
   "metadata": {},
   "outputs": [
    {
     "name": "stdout",
     "output_type": "stream",
     "text": [
      "enter side of square in meters : 20\n",
      "The side is divisible by 5\n",
      "area is 400 sq.m\n",
      "peri is 80 meters\n"
     ]
    }
   ],
   "source": [
    "#1 WAP TO FIND THE AREA AND THE PERIMETER OF THE SQUARE WHEN THE SIDE IS DIVISIBLE BY 5 \n",
    "\n",
    "\n",
    "side = input(\"enter side of square in meters : \")\n",
    "side=int(side)\n",
    "area = side ** 2\n",
    "peri = 4* side\n",
    "if side%5 == 0 :\n",
    "    print( \"The side is divisible by 5\")\n",
    "    print(\"area is\",area ,\"sq.m\")\n",
    "    print(\"peri is\",peri,\"meters\")\n",
    "   \n",
    "\n",
    "\n",
    "\n",
    "\n",
    "\n",
    "\n"
   ]
  },
  {
   "cell_type": "code",
   "execution_count": null,
   "metadata": {},
   "outputs": [],
   "source": [
    "#2 WAP TO PRINT THE GIVEN NUMBER IS ODD OTHERWISE DON'T PRINT IT\n",
    "\n",
    "num = input(\"Enter any number: \")\n",
    "num=int(num)\n",
    "if num % 2 == 1 :\n",
    "    print(\" The given number is odd\")"
   ]
  },
  {
   "cell_type": "code",
   "execution_count": null,
   "metadata": {},
   "outputs": [],
   "source": [
    "#3 WAP FOR FIDING IF A NO. IS EVEN OR NOT USING BITWISE OPERATOR\n",
    "\n",
    "num= input(\"Enter any number : \")\n",
    "num = int(num)\n",
    "if (num ^ 1 == num + 1) :\n",
    "    print(\"The no. is even \")  \n",
    "else:\n",
    "    \n",
    "    print(\"The no. is odd \")  "
   ]
  },
  {
   "cell_type": "code",
   "execution_count": 13,
   "metadata": {},
   "outputs": [
    {
     "name": "stdout",
     "output_type": "stream",
     "text": [
      "Enter any number : 456\n",
      "the decimal no. is : 0b111001000\n"
     ]
    },
    {
     "ename": "TypeError",
     "evalue": "unsupported operand type(s) for ^: 'str' and 'int'",
     "output_type": "error",
     "traceback": [
      "\u001b[1;31m---------------------------------------------------------------------------\u001b[0m",
      "\u001b[1;31mTypeError\u001b[0m                                 Traceback (most recent call last)",
      "\u001b[1;32m<ipython-input-13-830bf8942288>\u001b[0m in \u001b[0;36m<module>\u001b[1;34m\u001b[0m\n\u001b[0;32m      5\u001b[0m \u001b[0mdec\u001b[0m\u001b[1;33m=\u001b[0m\u001b[0mbin\u001b[0m\u001b[1;33m(\u001b[0m\u001b[0mnum\u001b[0m\u001b[1;33m)\u001b[0m\u001b[1;33m\u001b[0m\u001b[1;33m\u001b[0m\u001b[0m\n\u001b[0;32m      6\u001b[0m \u001b[0mprint\u001b[0m\u001b[1;33m(\u001b[0m\u001b[1;34m\"the decimal no. is :\"\u001b[0m\u001b[1;33m,\u001b[0m\u001b[0mdec\u001b[0m\u001b[1;33m)\u001b[0m\u001b[1;33m\u001b[0m\u001b[1;33m\u001b[0m\u001b[0m\n\u001b[1;32m----> 7\u001b[1;33m \u001b[1;33m(\u001b[0m\u001b[0mdec\u001b[0m \u001b[1;33m^\u001b[0m \u001b[1;33m(\u001b[0m\u001b[1;36m1\u001b[0m \u001b[1;33m<<\u001b[0m \u001b[1;33m(\u001b[0m\u001b[1;36m5\u001b[0m\u001b[1;33m)\u001b[0m\u001b[1;33m)\u001b[0m\u001b[1;33m)\u001b[0m\u001b[1;33m\u001b[0m\u001b[1;33m\u001b[0m\u001b[0m\n\u001b[0m\u001b[0;32m      8\u001b[0m \u001b[1;33m\u001b[0m\u001b[0m\n\u001b[0;32m      9\u001b[0m \u001b[1;33m\u001b[0m\u001b[0m\n",
      "\u001b[1;31mTypeError\u001b[0m: unsupported operand type(s) for ^: 'str' and 'int'"
     ]
    }
   ],
   "source": [
    "#4  WAP FOR SETTING THE 6TH BIT POSITION TO 1 IF IT IS NOT 1 OTHERWISE LEAVE IT \n",
    "\n",
    "num=input(\"Enter any number : \")\n",
    "num=int(num)\n",
    "dec=bin(num)\n",
    "print(\"the decimal no. is :\",dec)\n",
    "(dec ^ (1 << (5)))\n",
    "\n",
    "\n",
    "\n",
    "\n",
    "  \n",
    "     \n",
    "  \n",
    "  \n",
    "\n",
    "\n",
    "\n",
    "\n",
    "\n",
    "        \n"
   ]
  },
  {
   "cell_type": "code",
   "execution_count": 11,
   "metadata": {},
   "outputs": [
    {
     "name": "stdout",
     "output_type": "stream",
     "text": [
      "7\n"
     ]
    }
   ],
   "source": []
  },
  {
   "cell_type": "code",
   "execution_count": null,
   "metadata": {},
   "outputs": [],
   "source": []
  }
 ],
 "metadata": {
  "kernelspec": {
   "display_name": "Python 3",
   "language": "python",
   "name": "python3"
  },
  "language_info": {
   "codemirror_mode": {
    "name": "ipython",
    "version": 3
   },
   "file_extension": ".py",
   "mimetype": "text/x-python",
   "name": "python",
   "nbconvert_exporter": "python",
   "pygments_lexer": "ipython3",
   "version": "3.7.3"
  }
 },
 "nbformat": 4,
 "nbformat_minor": 2
}
